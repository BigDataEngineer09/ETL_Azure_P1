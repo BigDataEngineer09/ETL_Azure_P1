{
 "cells": [
  {
   "cell_type": "code",
   "execution_count": 0,
   "metadata": {
    "application/vnd.databricks.v1+cell": {
     "cellMetadata": {
      "byteLimit": 2048000,
      "rowLimit": 10000
     },
     "inputWidgets": {},
     "nuid": "e460e126-6088-4d49-92ee-c59ced92d5ab",
     "showTitle": false,
     "title": ""
    }
   },
   "outputs": [],
   "source": [
    "from pyspark.sql import functions as F\n",
    "import urllib\n",
    "# Define file type\n",
    "file_type = \"csv\"\n",
    "# Whether the file has a header\n",
    "first_row_is_header = \"True\"\n",
    "# Delimiter used in the file\n",
    "delimiter = \",\"\n",
    "# Read the CSV file to spark dataframe\n",
    "azureDatalake_keys_df = spark.read.format(file_type)\\\n",
    ".option(\"header\", first_row_is_header)\\\n",
    ".option(\"sep\", delimiter)\\\n",
    ".load(\"/FileStore/tables/propertyfiles/AzureStoragePropertyFile-1.csv\")\n",
    "\n",
    "print(azureDatalake_keys_df.columns)\n",
    "# Get the Datalake access key and storage account name from the spark dataframe\n",
    "storage_account_key = azureDatalake_keys_df.where(F.col('StorageAccountName')=='rt1storageaccount').select('AccessKey').collect()[0]['AccessKey']\n",
    "\n",
    "#Connection to azure datalake \n",
    "storage_account_name = \"rt1storageaccount\"\n",
    "container_name = \"bronze\"\n",
    "container_name1 = \"silver\"\n",
    "container_name2 = \"gold\"\n",
    "\n",
    "\n"
   ]
  },
  {
   "cell_type": "code",
   "execution_count": 0,
   "metadata": {
    "application/vnd.databricks.v1+cell": {
     "cellMetadata": {
      "byteLimit": 2048000,
      "rowLimit": 10000
     },
     "inputWidgets": {},
     "nuid": "690d7858-1b8e-4faf-be54-ac11d9e492fa",
     "showTitle": false,
     "title": ""
    }
   },
   "outputs": [],
   "source": [
    "dbutils.fs.mount(\n",
    "    source = f\"wasbs://bronze@{storage_account_name}.blob.core.windows.net/\",\n",
    "    mount_point = \"/mnt/bronze\",\n",
    "    extra_configs = {f\"fs.azure.account.key.{storage_account_name}.blob.core.windows.net\": storage_account_key}\n",
    ")\n",
    "\n"
   ]
  },
  {
   "cell_type": "code",
   "execution_count": 0,
   "metadata": {
    "application/vnd.databricks.v1+cell": {
     "cellMetadata": {},
     "inputWidgets": {},
     "nuid": "dc02b271-64c0-41b0-bf8c-532272314d74",
     "showTitle": false,
     "title": ""
    }
   },
   "outputs": [],
   "source": [
    "dbutils.fs.mount(\n",
    "    source = f\"wasbs://silver@{storage_account_name}.blob.core.windows.net/\",\n",
    "    mount_point = \"/mnt/silver\",\n",
    "    extra_configs = {f\"fs.azure.account.key.{storage_account_name}.blob.core.windows.net\": storage_account_key}\n",
    ")\n"
   ]
  },
  {
   "cell_type": "code",
   "execution_count": 0,
   "metadata": {
    "application/vnd.databricks.v1+cell": {
     "cellMetadata": {},
     "inputWidgets": {},
     "nuid": "f34068ec-33f6-4328-bdb0-822d4c8b00b0",
     "showTitle": false,
     "title": ""
    }
   },
   "outputs": [],
   "source": [
    "dbutils.fs.mount(\n",
    "    source = f\"wasbs://gold@{storage_account_name}.blob.core.windows.net/\",\n",
    "    mount_point = \"/mnt/gold\",\n",
    "    extra_configs = {f\"fs.azure.account.key.{storage_account_name}.blob.core.windows.net\": storage_account_key}\n",
    ")"
   ]
  },
  {
   "cell_type": "code",
   "execution_count": 0,
   "metadata": {
    "application/vnd.databricks.v1+cell": {
     "cellMetadata": {
      "byteLimit": 2048000,
      "rowLimit": 10000
     },
     "inputWidgets": {},
     "nuid": "398fa213-8e6d-42c4-9650-de1096730006",
     "showTitle": false,
     "title": ""
    }
   },
   "outputs": [],
   "source": [
    "dbutils.fs.ls('mnt/bronze/SalesLT/')"
   ]
  }
 ],
 "metadata": {
  "application/vnd.databricks.v1+notebook": {
   "dashboards": [],
   "language": "python",
   "notebookMetadata": {
    "pythonIndentUnit": 4
   },
   "notebookName": "StorageMount",
   "widgets": {}
  }
 },
 "nbformat": 4,
 "nbformat_minor": 0
}
