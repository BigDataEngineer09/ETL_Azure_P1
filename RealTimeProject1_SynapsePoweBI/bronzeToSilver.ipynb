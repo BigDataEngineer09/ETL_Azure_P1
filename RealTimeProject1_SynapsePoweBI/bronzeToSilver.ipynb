{
 "cells": [
  {
   "cell_type": "code",
   "execution_count": 0,
   "metadata": {
    "application/vnd.databricks.v1+cell": {
     "cellMetadata": {
      "byteLimit": 2048000,
      "rowLimit": 10000
     },
     "inputWidgets": {},
     "nuid": "28aef74e-70f7-4888-8967-fea05e6b2e3c",
     "showTitle": false,
     "title": ""
    }
   },
   "outputs": [],
   "source": [
    "dbutils.fs.ls('mnt/bronze/SalesLT/')"
   ]
  },
  {
   "cell_type": "code",
   "execution_count": 0,
   "metadata": {
    "application/vnd.databricks.v1+cell": {
     "cellMetadata": {
      "byteLimit": 2048000,
      "rowLimit": 10000
     },
     "inputWidgets": {},
     "nuid": "e654ebb4-8bd6-4a14-a414-d02c16010c05",
     "showTitle": false,
     "title": ""
    }
   },
   "outputs": [],
   "source": [
    "dbutils.fs.ls('mnt/silver/')"
   ]
  },
  {
   "cell_type": "code",
   "execution_count": 0,
   "metadata": {
    "application/vnd.databricks.v1+cell": {
     "cellMetadata": {
      "byteLimit": 2048000,
      "rowLimit": 10000
     },
     "inputWidgets": {},
     "nuid": "2adf0459-add8-4139-abf1-7bf2f4222722",
     "showTitle": false,
     "title": ""
    }
   },
   "outputs": [],
   "source": [
    "input_path='/mnt/bronze/SalesLT/Address/Address.parquet'\n",
    "df = spark.read.format('parquet').load(input_path)\n",
    "display(df)"
   ]
  },
  {
   "cell_type": "code",
   "execution_count": 0,
   "metadata": {
    "application/vnd.databricks.v1+cell": {
     "cellMetadata": {
      "byteLimit": 2048000,
      "rowLimit": 10000
     },
     "inputWidgets": {},
     "nuid": "2538c89e-bf86-4279-a7cc-7c10c2b151f7",
     "showTitle": false,
     "title": ""
    }
   },
   "outputs": [],
   "source": [
    "from pyspark.sql.functions import from_utc_timestamp, date_format\n",
    "from pyspark.sql.types import  TimestampType\n",
    "\n",
    "df=df.withColumn(\"ModifiedDate\",date_format(from_utc_timestamp(df[\"ModifiedDate\"].cast(TimestampType()),\"UTC\"),\"yyyy-MM-dd\"))\n"
   ]
  },
  {
   "cell_type": "markdown",
   "metadata": {
    "application/vnd.databricks.v1+cell": {
     "cellMetadata": {},
     "inputWidgets": {},
     "nuid": "c2047548-bfb2-4cb4-8321-15282d2fd00a",
     "showTitle": false,
     "title": ""
    }
   },
   "source": [
    "## Doing transformation for all tables"
   ]
  },
  {
   "cell_type": "code",
   "execution_count": 0,
   "metadata": {
    "application/vnd.databricks.v1+cell": {
     "cellMetadata": {
      "byteLimit": 2048000,
      "rowLimit": 10000
     },
     "inputWidgets": {},
     "nuid": "4f57b37f-6833-401a-9382-adfac10aabba",
     "showTitle": false,
     "title": ""
    }
   },
   "outputs": [],
   "source": [
    "table_name=[]\n",
    "\n",
    "for i in dbutils.fs.ls('mnt/bronze/SalesLT/'):\n",
    "\ttable_name.append(i.name.split('/')[0])"
   ]
  },
  {
   "cell_type": "code",
   "execution_count": 0,
   "metadata": {
    "application/vnd.databricks.v1+cell": {
     "cellMetadata": {
      "byteLimit": 2048000,
      "rowLimit": 10000
     },
     "inputWidgets": {},
     "nuid": "9135186a-3744-42ee-a148-1f9df505997b",
     "showTitle": false,
     "title": ""
    }
   },
   "outputs": [],
   "source": [
    "from pyspark.sql.functions import from_utc_timestamp, date_format\n",
    "from pyspark.sql.types import  TimestampType\n",
    "\n",
    "\n",
    "for i in table_name:\n",
    "    path='/mnt/bronze/SalesLT/' + i + '/' + i + '.parquet'\n",
    "    df= spark.read.format('parquet').load(path)\n",
    "    column= df.columns\n",
    "\n",
    "    for col in column:\n",
    "        if \"Date\" in col or \"date\" in col:\n",
    "            df = df.withColumn(col,date_format(from_utc_timestamp(df[col].cast(TimestampType()),\"UTC\"),\"yyyy-MM-dd\"))\n",
    "\n",
    "    output_path='/mnt/silver/SalesLT/' + i + '/'\n",
    "    #python\n",
    "    spark.conf.set(\"spark.databricks.delta.formatCheck.enabled\", \"false\")\n",
    "\n",
    "    df.write.format('delta').mode('overwrite').save(output_path)"
   ]
  },
  {
   "cell_type": "code",
   "execution_count": 0,
   "metadata": {
    "application/vnd.databricks.v1+cell": {
     "cellMetadata": {
      "byteLimit": 2048000,
      "rowLimit": 10000
     },
     "inputWidgets": {},
     "nuid": "0265c0bf-b78b-4617-800d-c3ccbc4afc24",
     "showTitle": false,
     "title": ""
    }
   },
   "outputs": [],
   "source": [
    "display(df)"
   ]
  }
 ],
 "metadata": {
  "application/vnd.databricks.v1+notebook": {
   "dashboards": [],
   "language": "python",
   "notebookMetadata": {
    "pythonIndentUnit": 4
   },
   "notebookName": "bronzeToSilver",
   "widgets": {}
  }
 },
 "nbformat": 4,
 "nbformat_minor": 0
}
